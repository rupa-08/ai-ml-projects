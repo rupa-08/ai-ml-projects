{
 "cells": [
  {
   "cell_type": "markdown",
   "id": "17ac6134-e7b6-49fe-9ea9-9b5a4f6d926d",
   "metadata": {},
   "source": [
    "## 1. Introduction to Unsupervised Machine Learning\n",
    "\n",
    "Unsupervised Machine Learning is a type of machine learning where models learn patterns and structures from data without labeled outcomes.\n"
   ]
  },
  {
   "cell_type": "markdown",
   "id": "126176cf-b9bd-40e6-a3a3-3ceca41de548",
   "metadata": {},
   "source": [
    "### Applications:\n",
    "- Customer Segmentation\n",
    "- Anomaly Detection\n",
    "- Data Compression and Dimensionality Reduction\n",
    "- Market Basket Analysis\n"
   ]
  },
  {
   "cell_type": "markdown",
   "id": "ec27b51b-b729-419f-a868-03a1b6b32587",
   "metadata": {},
   "source": [
    "## 2. Types of Unsupervised Learning Algorithms"
   ]
  },
  {
   "cell_type": "markdown",
   "id": "88712a56-d729-4166-aad8-4d5207af1c19",
   "metadata": {},
   "source": [
    "### 1. Clustering:\n",
    "   - **K-Means**: A centroid-based clustering algorithm that partitions data into `k` clusters. Commonly used for market segmentation and anomaly detection.\n",
    "   - **DBSCAN**: A density-based clustering algorithm that identifies clusters of varying shapes and sizes. Ideal for noise detection in datasets like geospatial data.\n",
    "   - **Hierarchical Clustering**: Builds a tree of clusters that can be cut at different levels to form clusters. Often used in genomic and document clustering.\n",
    "\n",
    "### 2. Dimensionality Reduction:\n",
    "   - **Principal Component Analysis (PCA)**: Reduces the dimensionality of data while preserving variance, making it useful for visualization and speeding up machine learning models.\n",
    "   - **t-Distributed Stochastic Neighbor Embedding (t-SNE)**: A nonlinear dimensionality reduction technique used for visualizing high-dimensional datasets like images and word embeddings.\n",
    "\n",
    "### 3. Association Rule Learning:\n",
    "   - **Apriori Algorithm**: Identifies frequent itemsets in transaction data and derives association rules, often used in market basket analysis.\n",
    "   - **FP-Growth Algorithm**: A more efficient alternative to Apriori for mining frequent itemsets in large datasets, commonly applied in recommendation systems."
   ]
  },
  {
   "cell_type": "markdown",
   "id": "4853a9ae-5869-4b7d-97fd-cc40749cf380",
   "metadata": {},
   "source": [
    "## 3. Scenario Where Unsupervised ML is Useful\n",
    "\n",
    "### Customer Segmentation in E-Commerce:\n",
    "Imagine an e-commerce company wants to group its customers based on purchasing behavior to provide personalized recommendations.\n",
    "- **Without labeled data**, the company cannot directly classify customers.\n",
    "- Using **clustering algorithms like K-Means**, customers can be grouped into different segments based on features like purchase history, browsing behavior, and spending patterns.\n",
    "- This segmentation helps in targeted marketing, improving customer experience, and optimizing sales strategies.\n"
   ]
  },
  {
   "cell_type": "code",
   "execution_count": null,
   "id": "ab9162c4-73f5-4c0c-b509-53fa8eda3f63",
   "metadata": {},
   "outputs": [],
   "source": []
  }
 ],
 "metadata": {
  "kernelspec": {
   "display_name": "Python 3 (ipykernel)",
   "language": "python",
   "name": "python3"
  },
  "language_info": {
   "codemirror_mode": {
    "name": "ipython",
    "version": 3
   },
   "file_extension": ".py",
   "mimetype": "text/x-python",
   "name": "python",
   "nbconvert_exporter": "python",
   "pygments_lexer": "ipython3",
   "version": "3.12.7"
  }
 },
 "nbformat": 4,
 "nbformat_minor": 5
}
