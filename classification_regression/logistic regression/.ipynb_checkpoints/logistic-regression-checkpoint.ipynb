{
 "cells": [
  {
   "cell_type": "markdown",
   "id": "57ec121c-0193-4ae6-a590-11fc818a6280",
   "metadata": {},
   "source": [
    "## Logistic Regression\n",
    "Logistic Regression is a classification algorithm used for binary and multi-class classification problems. \n",
    "It predicts the probability that a given input belongs to a particular class.\n",
    "\n",
    "### Why is it called Regression if it's a Classification Algorithm?\n",
    "The name \"Logistic Regression\" comes from its foundation in regression techniques. Unlike linear regression, which predicts continuous values, logistic regression applies the **sigmoid function** to the linear model, converting it into a probability output. Despite being used for classification, it is still called \"regression\" because it models the relationship between independent variables and the probability of a particular outcome.\n"
   ]
  },
  {
   "cell_type": "markdown",
   "id": "5b50e808-cecf-4265-b9a3-4bfc4caabc92",
   "metadata": {},
   "source": [
    "## 2. Mathematical Formulation\n",
    "\n",
    "### Sigmoid Function:\n",
    "Logistic regression is based on the sigmoid function:\n",
    "\n",
    "σ(z) = 1 / (1 + e^(-z))\n",
    "\n",
    "where z = wX + b (linear model)\n",
    "\n",
    "The probability of a sample belonging to class 1 is given by:\n",
    "P(Y=1|X) = σ(wX + b)\n",
    "\n",
    "Decision rule:\n",
    "- If P(Y=1|X) ≥ 0.5, predict class 1\n",
    "- If P(Y=1|X) < 0.5, predict class 0"
   ]
  },
  {
   "cell_type": "markdown",
   "id": "ecaa0e2d-1f6d-434b-af35-dbd145b6c7c6",
   "metadata": {},
   "source": [
    "## 3. Logistic Regression in Scikit-Learn\n"
   ]
  },
  {
   "cell_type": "code",
   "execution_count": null,
   "id": "9f0f2724-fe95-4abd-94ca-2858f89a684f",
   "metadata": {},
   "outputs": [],
   "source": []
  }
 ],
 "metadata": {
  "kernelspec": {
   "display_name": "Python 3 (ipykernel)",
   "language": "python",
   "name": "python3"
  },
  "language_info": {
   "codemirror_mode": {
    "name": "ipython",
    "version": 3
   },
   "file_extension": ".py",
   "mimetype": "text/x-python",
   "name": "python",
   "nbconvert_exporter": "python",
   "pygments_lexer": "ipython3",
   "version": "3.12.7"
  }
 },
 "nbformat": 4,
 "nbformat_minor": 5
}
