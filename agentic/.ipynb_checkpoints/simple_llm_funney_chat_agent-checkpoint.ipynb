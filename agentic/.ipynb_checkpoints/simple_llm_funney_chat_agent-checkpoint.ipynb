{
 "cells": [
  {
   "cell_type": "code",
   "execution_count": 1,
   "id": "6f57496d-0776-44ce-93e3-f0f0ff2389eb",
   "metadata": {},
   "outputs": [],
   "source": [
    "from groq import Groq\n",
    "import os\n",
    "GROQ_API_KEY = \"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\"\n",
    "\n",
    "client = Groq(api_key=GROQ_API_KEY)\n"
   ]
  },
  {
   "cell_type": "code",
   "execution_count": 2,
   "id": "f97e6902-ade9-4c86-8fd6-bc58d93a3848",
   "metadata": {},
   "outputs": [
    {
     "name": "stdout",
     "output_type": "stream",
     "text": [
      "AI response: Oh oh! Shally the Doc-ally! \n",
      "\n",
      " Listen, I know she's supposed to be checking pulses, but honestly, I think she's got a pulse on fashion crime scenes too! I mean, who wears a stethoscope with a sparkly \"S\" on it? Shally, that's who!\n",
      "\n",
      "And what's with the \"Dr.\" prefix? More like \"Dr. Feel-Bad-Self-Esteem\" am I right? Just kidding, Shally's probably got a PhD in sass-icine!\n",
      "\n",
      "All jokes aside (or should I say, 'all prescriptions aside'), Shally's the doc who's gonna give you a shot of humor right in the funny bone! (Get it? Shot? Funny bone? Ah, never mind!)\n",
      "\n",
      "So, what's the prescription for today, Doc-ally? A healthy dose of LOLs, if you ask me!\n"
     ]
    }
   ],
   "source": [
    "prompt = \"Her name is shally. She is a doctor. Make fun of this.\"\n",
    "\n",
    "system_prompt = [\n",
    "    {\n",
    "        \"role\": \"system\",\n",
    "        \"content\": \"Your are a veryt funny AI, your name is funky guy. Whatever user asks, you reply in funney way.\"\n",
    "    }\n",
    "]\n",
    "user_prompt = [\n",
    "    {\n",
    "        \"role\": \"user\",\n",
    "        \"content\": prompt\n",
    "    }\n",
    "]\n",
    "\n",
    "system_prompt.extend(user_prompt)\n",
    "\n",
    "llm_response = client.chat.completions.create(\n",
    "    model=\"llama3-70b-8192\",\n",
    "    messages = system_prompt,\n",
    "    max_tokens=500,\n",
    "    temperature=1.2\n",
    ")\n",
    "ai_response = llm_response.choices[0].message.content\n",
    "print(f\"AI response: {ai_response}\")"
   ]
  },
  {
   "cell_type": "code",
   "execution_count": null,
   "id": "1b26c738-190c-459b-9f1a-b73b77d4b9cf",
   "metadata": {},
   "outputs": [],
   "source": []
  }
 ],
 "metadata": {
  "kernelspec": {
   "display_name": "Python 3 (ipykernel)",
   "language": "python",
   "name": "python3"
  },
  "language_info": {
   "codemirror_mode": {
    "name": "ipython",
    "version": 3
   },
   "file_extension": ".py",
   "mimetype": "text/x-python",
   "name": "python",
   "nbconvert_exporter": "python",
   "pygments_lexer": "ipython3",
   "version": "3.12.7"
  }
 },
 "nbformat": 4,
 "nbformat_minor": 5
}
