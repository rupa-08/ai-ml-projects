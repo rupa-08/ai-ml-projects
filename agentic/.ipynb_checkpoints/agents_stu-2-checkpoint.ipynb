{
 "cells": [
  {
   "cell_type": "code",
   "execution_count": 4,
   "id": "a807d1ca-2ef8-4550-aea8-d8c3d73a6b3b",
   "metadata": {},
   "outputs": [],
   "source": [
    "from groq import Groq\n",
    "import os"
   ]
  },
  {
   "cell_type": "code",
   "execution_count": null,
   "id": "3050d697-89e4-4ff0-82b5-c32a46def2c0",
   "metadata": {},
   "outputs": [],
   "source": [
    "GROQ_API_KEY = \"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\"\n",
    "\n",
    "client = Groq(api_key=GROQ_API_KEY)"
   ]
  },
  {
   "cell_type": "code",
   "execution_count": null,
   "id": "b135d39f-3a0b-445f-a45e-7c4d71daef68",
   "metadata": {},
   "outputs": [],
   "source": [
    "prompt = \"Her name is shally. She is a doctor. Make fun of this.\"\n",
    "\n",
    "system_prompt = [\n",
    "    {\n",
    "        \"role\": \"system\",\n",
    "        \"content\": \"You are a very funny AI. Your name is Funky Guy. Whatever the user asks, you reply in a funny way.\"\n",
    "\n",
    "    }\n",
    "]\n",
    "user_prompt = [\n",
    "    {\n",
    "        \"role\": \"user\",\n",
    "        \"content\": prompt\n",
    "    }\n",
    "]\n",
    "\n",
    "llm_input = system_prompt.extend(user_prompt)\n",
    "\n",
    "response = client.chat.completions.create(\n",
    "    model=\"llama3-70b-8192\"\n",
    "    message = llm_input,\n",
    "    max_token=500,\n",
    "    temperature=1.2\n",
    ")\n",
    "ai_response = response.chioces[0].message.content\n",
    "print(f\"AI response: {ai_response}\")"
   ]
  }
 ],
 "metadata": {
  "kernelspec": {
   "display_name": "Python 3 (ipykernel)",
   "language": "python",
   "name": "python3"
  },
  "language_info": {
   "codemirror_mode": {
    "name": "ipython",
    "version": 3
   },
   "file_extension": ".py",
   "mimetype": "text/x-python",
   "name": "python",
   "nbconvert_exporter": "python",
   "pygments_lexer": "ipython3",
   "version": "3.12.7"
  }
 },
 "nbformat": 4,
 "nbformat_minor": 5
}
