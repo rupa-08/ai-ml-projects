{
 "cells": [
  {
   "cell_type": "code",
   "execution_count": 7,
   "id": "1d378938-c047-472f-81c5-d9a5b18f2831",
   "metadata": {},
   "outputs": [
    {
     "name": "stdout",
     "output_type": "stream",
     "text": [
      "Collecting langchain_groq\n",
      "  Using cached langchain_groq-0.3.2-py3-none-any.whl.metadata (2.6 kB)\n",
      "Collecting langchain_community\n",
      "  Downloading langchain_community-0.3.25-py3-none-any.whl.metadata (2.9 kB)\n",
      "Collecting google-search-results\n",
      "  Using cached google_search_results-2.4.2-py3-none-any.whl\n",
      "Collecting langchain-core<1.0.0,>=0.3.49 (from langchain_groq)\n",
      "  Downloading langchain_core-0.3.65-py3-none-any.whl.metadata (5.8 kB)\n",
      "Requirement already satisfied: groq<1,>=0.4.1 in /opt/anaconda3/lib/python3.12/site-packages (from langchain_groq) (0.28.0)\n",
      "Collecting langchain<1.0.0,>=0.3.25 (from langchain_community)\n",
      "  Using cached langchain-0.3.25-py3-none-any.whl.metadata (7.8 kB)\n",
      "Requirement already satisfied: SQLAlchemy<3,>=1.4 in /opt/anaconda3/lib/python3.12/site-packages (from langchain_community) (2.0.34)\n",
      "Requirement already satisfied: requests<3,>=2 in /opt/anaconda3/lib/python3.12/site-packages (from langchain_community) (2.32.3)\n",
      "Requirement already satisfied: PyYAML>=5.3 in /opt/anaconda3/lib/python3.12/site-packages (from langchain_community) (6.0.1)\n",
      "Requirement already satisfied: aiohttp<4.0.0,>=3.8.3 in /opt/anaconda3/lib/python3.12/site-packages (from langchain_community) (3.10.5)\n",
      "Requirement already satisfied: tenacity!=8.4.0,<10,>=8.1.0 in /opt/anaconda3/lib/python3.12/site-packages (from langchain_community) (8.2.3)\n",
      "Collecting dataclasses-json<0.7,>=0.5.7 (from langchain_community)\n",
      "  Using cached dataclasses_json-0.6.7-py3-none-any.whl.metadata (25 kB)\n",
      "Collecting pydantic-settings<3.0.0,>=2.4.0 (from langchain_community)\n",
      "  Using cached pydantic_settings-2.9.1-py3-none-any.whl.metadata (3.8 kB)\n",
      "Collecting langsmith<0.4,>=0.1.125 (from langchain_community)\n",
      "  Downloading langsmith-0.3.45-py3-none-any.whl.metadata (15 kB)\n",
      "Collecting httpx-sse<1.0.0,>=0.4.0 (from langchain_community)\n",
      "  Using cached httpx_sse-0.4.0-py3-none-any.whl.metadata (9.0 kB)\n",
      "Requirement already satisfied: numpy>=1.26.2 in /opt/anaconda3/lib/python3.12/site-packages (from langchain_community) (1.26.4)\n",
      "Requirement already satisfied: aiohappyeyeballs>=2.3.0 in /opt/anaconda3/lib/python3.12/site-packages (from aiohttp<4.0.0,>=3.8.3->langchain_community) (2.4.0)\n",
      "Requirement already satisfied: aiosignal>=1.1.2 in /opt/anaconda3/lib/python3.12/site-packages (from aiohttp<4.0.0,>=3.8.3->langchain_community) (1.2.0)\n",
      "Requirement already satisfied: attrs>=17.3.0 in /opt/anaconda3/lib/python3.12/site-packages (from aiohttp<4.0.0,>=3.8.3->langchain_community) (23.1.0)\n",
      "Requirement already satisfied: frozenlist>=1.1.1 in /opt/anaconda3/lib/python3.12/site-packages (from aiohttp<4.0.0,>=3.8.3->langchain_community) (1.4.0)\n",
      "Requirement already satisfied: multidict<7.0,>=4.5 in /opt/anaconda3/lib/python3.12/site-packages (from aiohttp<4.0.0,>=3.8.3->langchain_community) (6.0.4)\n",
      "Requirement already satisfied: yarl<2.0,>=1.0 in /opt/anaconda3/lib/python3.12/site-packages (from aiohttp<4.0.0,>=3.8.3->langchain_community) (1.11.0)\n",
      "Collecting marshmallow<4.0.0,>=3.18.0 (from dataclasses-json<0.7,>=0.5.7->langchain_community)\n",
      "  Using cached marshmallow-3.26.1-py3-none-any.whl.metadata (7.3 kB)\n",
      "Collecting typing-inspect<1,>=0.4.0 (from dataclasses-json<0.7,>=0.5.7->langchain_community)\n",
      "  Using cached typing_inspect-0.9.0-py3-none-any.whl.metadata (1.5 kB)\n",
      "Requirement already satisfied: anyio<5,>=3.5.0 in /opt/anaconda3/lib/python3.12/site-packages (from groq<1,>=0.4.1->langchain_groq) (4.2.0)\n",
      "Requirement already satisfied: distro<2,>=1.7.0 in /opt/anaconda3/lib/python3.12/site-packages (from groq<1,>=0.4.1->langchain_groq) (1.9.0)\n",
      "Requirement already satisfied: httpx<1,>=0.23.0 in /opt/anaconda3/lib/python3.12/site-packages (from groq<1,>=0.4.1->langchain_groq) (0.27.0)\n",
      "Requirement already satisfied: pydantic<3,>=1.9.0 in /opt/anaconda3/lib/python3.12/site-packages (from groq<1,>=0.4.1->langchain_groq) (2.8.2)\n",
      "Requirement already satisfied: sniffio in /opt/anaconda3/lib/python3.12/site-packages (from groq<1,>=0.4.1->langchain_groq) (1.3.0)\n",
      "Requirement already satisfied: typing-extensions<5,>=4.10 in /opt/anaconda3/lib/python3.12/site-packages (from groq<1,>=0.4.1->langchain_groq) (4.11.0)\n",
      "Collecting langchain-text-splitters<1.0.0,>=0.3.8 (from langchain<1.0.0,>=0.3.25->langchain_community)\n",
      "  Using cached langchain_text_splitters-0.3.8-py3-none-any.whl.metadata (1.9 kB)\n",
      "Requirement already satisfied: jsonpatch<2.0,>=1.33 in /opt/anaconda3/lib/python3.12/site-packages (from langchain-core<1.0.0,>=0.3.49->langchain_groq) (1.33)\n",
      "Requirement already satisfied: packaging<25,>=23.2 in /opt/anaconda3/lib/python3.12/site-packages (from langchain-core<1.0.0,>=0.3.49->langchain_groq) (24.1)\n",
      "Collecting orjson<4.0.0,>=3.9.14 (from langsmith<0.4,>=0.1.125->langchain_community)\n",
      "  Using cached orjson-3.10.18-cp312-cp312-macosx_15_0_arm64.whl.metadata (41 kB)\n",
      "Requirement already satisfied: requests-toolbelt<2.0.0,>=1.0.0 in /opt/anaconda3/lib/python3.12/site-packages (from langsmith<0.4,>=0.1.125->langchain_community) (1.0.0)\n",
      "Requirement already satisfied: zstandard<0.24.0,>=0.23.0 in /opt/anaconda3/lib/python3.12/site-packages (from langsmith<0.4,>=0.1.125->langchain_community) (0.23.0)\n",
      "Requirement already satisfied: python-dotenv>=0.21.0 in /opt/anaconda3/lib/python3.12/site-packages (from pydantic-settings<3.0.0,>=2.4.0->langchain_community) (0.21.0)\n",
      "Collecting typing-inspection>=0.4.0 (from pydantic-settings<3.0.0,>=2.4.0->langchain_community)\n",
      "  Downloading typing_inspection-0.4.1-py3-none-any.whl.metadata (2.6 kB)\n",
      "Requirement already satisfied: charset-normalizer<4,>=2 in /opt/anaconda3/lib/python3.12/site-packages (from requests<3,>=2->langchain_community) (3.3.2)\n",
      "Requirement already satisfied: idna<4,>=2.5 in /opt/anaconda3/lib/python3.12/site-packages (from requests<3,>=2->langchain_community) (3.7)\n",
      "Requirement already satisfied: urllib3<3,>=1.21.1 in /opt/anaconda3/lib/python3.12/site-packages (from requests<3,>=2->langchain_community) (2.2.3)\n",
      "Requirement already satisfied: certifi>=2017.4.17 in /opt/anaconda3/lib/python3.12/site-packages (from requests<3,>=2->langchain_community) (2024.8.30)\n",
      "Requirement already satisfied: httpcore==1.* in /opt/anaconda3/lib/python3.12/site-packages (from httpx<1,>=0.23.0->groq<1,>=0.4.1->langchain_groq) (1.0.2)\n",
      "Requirement already satisfied: h11<0.15,>=0.13 in /opt/anaconda3/lib/python3.12/site-packages (from httpcore==1.*->httpx<1,>=0.23.0->groq<1,>=0.4.1->langchain_groq) (0.14.0)\n",
      "Requirement already satisfied: jsonpointer>=1.9 in /opt/anaconda3/lib/python3.12/site-packages (from jsonpatch<2.0,>=1.33->langchain-core<1.0.0,>=0.3.49->langchain_groq) (2.1)\n",
      "Requirement already satisfied: annotated-types>=0.4.0 in /opt/anaconda3/lib/python3.12/site-packages (from pydantic<3,>=1.9.0->groq<1,>=0.4.1->langchain_groq) (0.6.0)\n",
      "Requirement already satisfied: pydantic-core==2.20.1 in /opt/anaconda3/lib/python3.12/site-packages (from pydantic<3,>=1.9.0->groq<1,>=0.4.1->langchain_groq) (2.20.1)\n",
      "Requirement already satisfied: mypy-extensions>=0.3.0 in /opt/anaconda3/lib/python3.12/site-packages (from typing-inspect<1,>=0.4.0->dataclasses-json<0.7,>=0.5.7->langchain_community) (1.0.0)\n",
      "Collecting typing-extensions<5,>=4.10 (from groq<1,>=0.4.1->langchain_groq)\n",
      "  Using cached typing_extensions-4.14.0-py3-none-any.whl.metadata (3.0 kB)\n",
      "Using cached langchain_groq-0.3.2-py3-none-any.whl (15 kB)\n",
      "Downloading langchain_community-0.3.25-py3-none-any.whl (2.5 MB)\n",
      "\u001b[2K   \u001b[90m━━━━━━━━━━━━━━━━━━━━━━━━━━━━━━━━━━━━━━━━\u001b[0m \u001b[32m2.5/2.5 MB\u001b[0m \u001b[31m12.0 MB/s\u001b[0m eta \u001b[36m0:00:00\u001b[0ma \u001b[36m0:00:01\u001b[0m\n",
      "\u001b[?25hUsing cached dataclasses_json-0.6.7-py3-none-any.whl (28 kB)\n",
      "Using cached httpx_sse-0.4.0-py3-none-any.whl (7.8 kB)\n",
      "Using cached langchain-0.3.25-py3-none-any.whl (1.0 MB)\n",
      "Downloading langchain_core-0.3.65-py3-none-any.whl (438 kB)\n",
      "Downloading langsmith-0.3.45-py3-none-any.whl (363 kB)\n",
      "Using cached pydantic_settings-2.9.1-py3-none-any.whl (44 kB)\n",
      "Using cached langchain_text_splitters-0.3.8-py3-none-any.whl (32 kB)\n",
      "Using cached marshmallow-3.26.1-py3-none-any.whl (50 kB)\n",
      "Using cached orjson-3.10.18-cp312-cp312-macosx_15_0_arm64.whl (133 kB)\n",
      "Using cached typing_inspect-0.9.0-py3-none-any.whl (8.8 kB)\n",
      "Downloading typing_inspection-0.4.1-py3-none-any.whl (14 kB)\n",
      "Using cached typing_extensions-4.14.0-py3-none-any.whl (43 kB)\n",
      "Installing collected packages: typing-extensions, orjson, marshmallow, httpx-sse, typing-inspection, typing-inspect, google-search-results, dataclasses-json, pydantic-settings, langsmith, langchain-core, langchain-text-splitters, langchain_groq, langchain, langchain_community\n",
      "  Attempting uninstall: typing-extensions\n",
      "    Found existing installation: typing_extensions 4.11.0\n",
      "    Uninstalling typing_extensions-4.11.0:\n",
      "      Successfully uninstalled typing_extensions-4.11.0\n",
      "Successfully installed dataclasses-json-0.6.7 google-search-results-2.4.2 httpx-sse-0.4.0 langchain-0.3.25 langchain-core-0.3.65 langchain-text-splitters-0.3.8 langchain_community-0.3.25 langchain_groq-0.3.2 langsmith-0.3.45 marshmallow-3.26.1 orjson-3.10.18 pydantic-settings-2.9.1 typing-extensions-4.14.0 typing-inspect-0.9.0 typing-inspection-0.4.1\n"
     ]
    }
   ],
   "source": [
    "# !pip install langchain_groq langchain_community google-search-results\n",
    "#using external tool langchain"
   ]
  },
  {
   "cell_type": "code",
   "execution_count": 9,
   "id": "a87c8a7f-053b-4961-8fb7-b02f5f0be8ff",
   "metadata": {},
   "outputs": [],
   "source": [
    "import os\n",
    "from dotenv import load_dotenv\n",
    "\n",
    "from langchain_groq import ChatGroq\n",
    "from langchain_community.utilities import SerpAPIWrapper\n",
    "from langchain.tools import Tool\n",
    "from langchain.memory import ConversationBufferMemory\n",
    "from langchain.agents import initialize_agent"
   ]
  },
  {
   "cell_type": "code",
   "execution_count": null,
   "id": "a9aeca23",
   "metadata": {},
   "outputs": [],
   "source": [
    "load_dotenv()\n",
    "GROQ_API_KEY = os.getenv(\"GROQ_API_KEY\")\n",
    "SERP_API_KEY = os.getenv(\"SERP_API_KEY\")"
   ]
  },
  {
   "cell_type": "code",
   "execution_count": null,
   "id": "38bc05aa",
   "metadata": {},
   "outputs": [],
   "source": [
    "# Initialize the ChatGroq LLM with the LLaMA3-70B model\n",
    "groq_llm = ChatGroq(\n",
    "    api_key=GROQ_API_KEY,\n",
    "    model_name=\"llama3-70b-8192\", # This model first tries to answer using its own knowledge. \n",
    "                                   # If it can't answer (e.g., for time-sensitive questions), it can fall back to web search.\n",
    "    temperature=1.0,               # Controls randomness; higher values make output more creative\n",
    "    max_tokens=500                 # Limits the length of the generated response\n",
    ")\n",
    "\n",
    "# Initialize SerpAPI wrapper for performing real-time web searches\n",
    "search=SerpAPIWrapper(serpapi_api_key=SERP_API_KEY)\n",
    "\n",
    "# Define a tool for web searching using SerpAPI\n",
    "search_tool = Tool(\n",
    "    name=\"Web Search\",\n",
    "    func=search.run,                     # Function to execute the web search using the query\n",
    "    description=\"Searches the web for latest information\", # Used to decide when to call this tool\n",
    "    handle_parsing_errors=True          # Prevents tool failure if there's an error during parsing\n",
    ")\n",
    "\n",
    "# memory=ConversationBufferMemory(memory_key = \"history\")"
   ]
  },
  {
   "cell_type": "code",
   "execution_count": 15,
   "id": "62a7a052-9447-4532-bea3-be923a41f579",
   "metadata": {},
   "outputs": [],
   "source": [
    "agent = initialize_agent(\n",
    "    tools=[search_tool], # Tools available to the agent\n",
    "    llm=groq_llm, # Language model used by the agent\n",
    "    # memory=memory,\n",
    "    verbose=True# Print intermediate steps\n",
    ")"
   ]
  },
  {
   "cell_type": "code",
   "execution_count": 16,
   "id": "5b8ed1b1-fb66-4ae5-a428-370be4c0156d",
   "metadata": {},
   "outputs": [
    {
     "name": "stdout",
     "output_type": "stream",
     "text": [
      "\n",
      "\n",
      "\u001b[1m> Entering new AgentExecutor chain...\u001b[0m\n",
      "\u001b[32;1m\u001b[1;3mThought: I don't have real-time information, but I can try to search the web for information available up to a certain point in time.\n",
      "\n",
      "Action: Web Search\n",
      "Action Input: \"current president of the United States\" \n",
      "\u001b[0m\n",
      "Observation: \u001b[36;1m\u001b[1;3mDonald Trump\u001b[0m\n",
      "Thought:\u001b[32;1m\u001b[1;3mThought: Wait, I think I made a mistake. The observation is showing Donald Trump, but the question is asking about the president in 2025. I need to search for more specific information.\n",
      "\n",
      "Action: Web Search\n",
      "Action Input: \"president of the United States 2025\" \n",
      "\u001b[0m\n",
      "Observation: \u001b[36;1m\u001b[1;3m[{'title': 'Department Press Briefing – June 17, 2025', 'link': 'https://www.state.gov/briefings/department-press-briefing-june-17-2025/', 'source': 'U.S. Department of State (.gov)', 'source_logo': 'https://serpapi.com/searches/68520bdacc56d38b9462157f/images/fa800f740c4b75232f4e79ba0b8e1a3dd47008695bee3a4e494031d1c89c8aef.png', 'date': '3 hours ago', 'thumbnail': 'https://serpapi.com/searches/68520bdacc56d38b9462157f/images/fa800f740c4b7523d8e3fea9baa1c2c1d3763d346e092220.jpeg'}, {'title': 'President Trump Celebrates U.S. Army’s 250th Birthday with Iconic Grand Parade', 'link': 'https://www.whitehouse.gov/articles/2025/06/president-trump-celebrates-u-s-armys-250th-birthday-with-iconic-grand-parade/', 'source': 'The White House (.gov)', 'source_logo': 'https://serpapi.com/searches/68520bdacc56d38b9462157f/images/fa800f740c4b7523672e1a66acde1ccad358fcee117f83cb1c4aa67f4f4684f6.png', 'date': '2 days ago', 'thumbnail': 'https://serpapi.com/searches/68520bdacc56d38b9462157f/images/fa800f740c4b7523d08c7b8d292673d7d6a2f77ce2ce95fb.jpeg'}, {'title': \"NAACP won't invite Trump to its national convention, breaking a 116-year tradition\", 'link': 'https://www.npr.org/2025/06/17/nx-s1-5436660/naacp-trump-national-convention-invitation', 'source': 'NPR', 'source_logo': 'https://serpapi.com/searches/68520bdacc56d38b9462157f/images/fa800f740c4b75237fdafb5d2a6c39270b42c15ebfbfbbf8865815fc041599a8.png', 'date': '2 hours ago', 'thumbnail': 'https://serpapi.com/searches/68520bdacc56d38b9462157f/images/fa800f740c4b7523e81dfac16bef94e390df68d4bb7001f1.jpeg'}]\u001b[0m\n",
      "Thought:\u001b[32;1m\u001b[1;3mThought: I have searched for specific information about the president of the United States in 2025, but the results are showing news articles from June 2025, which is not telling me who the current elected president is. I need to rethink my approach.\n",
      "\n",
      "Action: Web Search\n",
      "Action Input: \"who is the president of the United States\"\n",
      "\u001b[0m\n",
      "Observation: \u001b[36;1m\u001b[1;3m[{'title': 'Department Press Briefing – June 17, 2025', 'link': 'https://www.state.gov/briefings/department-press-briefing-june-17-2025/', 'source': 'U.S. Department of State (.gov)', 'source_logo': 'https://serpapi.com/searches/68520bdd3d8701fb2224964c/images/6a6ef041114aeb4bfe8406868be0b88840de74477ca8461e25dd7559e13d535b.png', 'date': '3 hours ago', 'thumbnail': 'https://serpapi.com/searches/68520bdd3d8701fb2224964c/images/6a6ef041114aeb4b4386bef0157bd745b3ce7576bde2a91f.jpeg'}, {'title': \"'We have control of Iranian skies’, US President Donald Trump says\", 'link': 'https://www.youtube.com/watch?v=EetfszJArTs', 'source': 'YouTube · BBC News', 'date': '8 hours ago', 'thumbnail': 'https://serpapi.com/searches/68520bdd3d8701fb2224964c/images/6a6ef041114aeb4b96eeb0af38f44de7dbb19cc227982666.jpeg', 'label': 'Video'}]\u001b[0m\n",
      "Thought:\u001b[32;1m\u001b[1;3mI now know the final answer.\n",
      "\n",
      "Final Answer: The current elected president of the United States as of 2025 is still unknown based on the available information up to a certain point in time. The searches did not yield a definitive answer, and it appears that the information available is outdated or not specific enough to provide a clear answer.\u001b[0m\n",
      "\n",
      "\u001b[1m> Finished chain.\u001b[0m\n"
     ]
    }
   ],
   "source": [
    "response = agent.invoke(\"Who is the current elected president of USA of 2025?\")"
   ]
  },
  {
   "cell_type": "code",
   "execution_count": 17,
   "id": "e9e8371c-f910-408e-9541-da2d22529d75",
   "metadata": {},
   "outputs": [
    {
     "name": "stdout",
     "output_type": "stream",
     "text": [
      "{'input': 'Who is the current elected president of USA of 2025?', 'output': 'The current elected president of the United States as of 2025 is still unknown based on the available information up to a certain point in time. The searches did not yield a definitive answer, and it appears that the information available is outdated or not specific enough to provide a clear answer.'}\n"
     ]
    }
   ],
   "source": [
    "print(response)"
   ]
  },
  {
   "cell_type": "code",
   "execution_count": null,
   "id": "1a0d2c52-f684-482a-95dd-125f1f5e049b",
   "metadata": {},
   "outputs": [],
   "source": []
  }
 ],
 "metadata": {
  "kernelspec": {
   "display_name": "Python 3 (ipykernel)",
   "language": "python",
   "name": "python3"
  },
  "language_info": {
   "codemirror_mode": {
    "name": "ipython",
    "version": 3
   },
   "file_extension": ".py",
   "mimetype": "text/x-python",
   "name": "python",
   "nbconvert_exporter": "python",
   "pygments_lexer": "ipython3",
   "version": "3.12.7"
  }
 },
 "nbformat": 4,
 "nbformat_minor": 5
}
