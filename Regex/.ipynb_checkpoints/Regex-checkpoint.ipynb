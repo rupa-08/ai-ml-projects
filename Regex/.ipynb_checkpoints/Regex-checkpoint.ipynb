{
 "cells": [
  {
   "cell_type": "markdown",
   "id": "872a1fb6-e72e-4bcd-b088-f7e580204495",
   "metadata": {},
   "source": [
    "# Regex\n",
    "\n",
    "Regex (Regular Expressions) is a sequence of characters that defines a search pattern. In NLP, it's used to:\n",
    "\n",
    "- Clean text\n",
    "- Extract patterns (emails, dates, hashtags)\n",
    "- Find or replace specific patterns"
   ]
  },
  {
   "cell_type": "markdown",
   "id": "3667ce3a-afc1-4566-8d57-8a07fcb58943",
   "metadata": {},
   "source": [
    "## Import re Library\n"
   ]
  },
  {
   "cell_type": "markdown",
   "id": "65b48a85-1d8e-421d-88c7-38c792a9761d",
   "metadata": {},
   "source": [
    "## 1. Character Classes\n",
    "\n",
    "**. → Any character except newline**"
   ]
  },
  {
   "cell_type": "code",
   "execution_count": 2,
   "id": "2227d2ff-6a3b-433c-9ee5-4643534df92f",
   "metadata": {},
   "outputs": [
    {
     "data": {
      "text/plain": [
       "['cat', 'cut', 'cot', 'c t']"
      ]
     },
     "execution_count": 2,
     "metadata": {},
     "output_type": "execute_result"
    }
   ],
   "source": [
    "import re\n",
    "re.findall(r'c.t', 'cat cut cot c t')"
   ]
  },
  {
   "cell_type": "markdown",
   "id": "75031dc2-dcc0-4df6-b834-a386c6200eac",
   "metadata": {},
   "source": [
    "**\\w \\d \\s → Word, digit, whitespace**"
   ]
  },
  {
   "cell_type": "code",
   "execution_count": 3,
   "id": "f866945f-913e-4aa0-a368-542b5014720c",
   "metadata": {},
   "outputs": [
    {
     "data": {
      "text/plain": [
       "['7', '12345', '2025', '555', '123', '4567']"
      ]
     },
     "execution_count": 3,
     "metadata": {},
     "output_type": "execute_result"
    }
   ],
   "source": [
    "text = \"\"\"\n",
    "General text7 with multiple words:\n",
    "\n",
    "This is a simple text string.\n",
    "\n",
    "Test string with numbers 12345 and symbols !@#$\n",
    "\n",
    "Regex can be tricky at times, but it's powerful.\n",
    "\n",
    "Look out for 2025, it's going to be an exciting year!\n",
    "\n",
    "Call me at 555-123-4567 for more info.\n",
    "\"\"\"\n",
    "\n",
    "re.findall(r\"\\d+\", text)"
   ]
  },
  {
   "cell_type": "code",
   "execution_count": null,
   "id": "90f09530-8a66-4812-b42d-45b77f7f81f3",
   "metadata": {},
   "outputs": [],
   "source": [
    "re.findall(r'\\w+', 'Regex101 is #1!')\n",
    "# ['Regex101', 'is', '1']\n",
    "\n",
    "re.findall(r'\\d+', 'Year: 2025')\n",
    "# ['2025']\n",
    "\n",
    "re.findall(r'\\s+', 'a   b')\n",
    "# ['   ']"
   ]
  },
  {
   "cell_type": "markdown",
   "id": "b98085b3-c290-49fb-bba4-0eb2401ded8b",
   "metadata": {},
   "source": [
    "**\\W \\D \\S → Not word, digit, whitespace**"
   ]
  },
  {
   "cell_type": "code",
   "execution_count": null,
   "id": "fe56eb97-2de6-4fdd-b8cd-527322c6035c",
   "metadata": {},
   "outputs": [],
   "source": [
    "re.findall(r'\\W+', 'A&B*C!')\n",
    "# ['&', '*', '!']\n",
    "\n",
    "re.findall(r'\\D+', 'Call 911 now!')\n",
    "# ['Call ', ' now!']\n",
    "\n",
    "re.findall(r'\\S+', 'text   with   spaces')\n",
    "# ['text', 'with', 'spaces']"
   ]
  },
  {
   "cell_type": "markdown",
   "id": "ea5506f5-d6f4-491d-a895-5de0025e70f8",
   "metadata": {},
   "source": [
    "**[abc] → Any of a, b, or c**\n"
   ]
  },
  {
   "cell_type": "code",
   "execution_count": 8,
   "id": "062ab9ce-fb84-4dd4-be5d-63e04a1944e9",
   "metadata": {},
   "outputs": [
    {
     "data": {
      "text/plain": [
       "['A', 'b', 'a', 'a', 'a', 'c', 'a']"
      ]
     },
     "execution_count": 8,
     "metadata": {},
     "output_type": "execute_result"
    }
   ],
   "source": [
    "re.findall(r'[abc]', 'Apple banana carrot', re.I)"
   ]
  },
  {
   "cell_type": "markdown",
   "id": "1811ea48-ea1b-44cf-9bd9-8cdfd95a5551",
   "metadata": {},
   "source": [
    "**[^abc] → Not a, b, or c**\n",
    "[a-g] → Character between a and g ``(re.findall(r'[a-g]', 'abcdefgzxy'))``"
   ]
  },
  {
   "cell_type": "markdown",
   "id": "f7c17fb4-61d3-428d-946f-5d1e0efe25c4",
   "metadata": {},
   "source": [
    "## 2. Anchors\n",
    "\n",
    "**^abc$ → Start & end of string**"
   ]
  },
  {
   "cell_type": "code",
   "execution_count": 4,
   "id": "83ec9cde-3bd0-4b1f-935f-1c0f16531690",
   "metadata": {},
   "outputs": [],
   "source": [
    "re.match(r'^abc$', 'abc')  # full string is \"abc\"\n",
    "# Match object exists\n",
    "\n",
    "re.match(r'^abc$', 'abcd')  # does not match full string\n",
    "# None\n"
   ]
  },
  {
   "cell_type": "markdown",
   "id": "3981aa10-8daa-4df8-8fd2-c7e80ef9a5c5",
   "metadata": {},
   "source": [
    "**\\b and \\B → Word boundary and not word boundary**"
   ]
  },
  {
   "cell_type": "code",
   "execution_count": 7,
   "id": "0de4f329-989d-4458-9292-d6a8fb11c25f",
   "metadata": {},
   "outputs": [
    {
     "data": {
      "text/plain": [
       "['cat', 'cat']"
      ]
     },
     "execution_count": 7,
     "metadata": {},
     "output_type": "execute_result"
    }
   ],
   "source": [
    "re.findall(r'\\bcat\\b', 'cat catalog category')\n",
    "\n",
    "re.findall(r'\\Bcat\\B', 'educate location')\n"
   ]
  },
  {
   "cell_type": "markdown",
   "id": "068b39b7-6aa5-4487-a770-cebecc401644",
   "metadata": {},
   "source": [
    "## 3. Escaped Characters\n",
    "**\\. \\* \\\\ → Escape regex symbols**"
   ]
  },
  {
   "cell_type": "code",
   "execution_count": 8,
   "id": "8999c232-153c-493c-9dd8-ea4cf4747af9",
   "metadata": {},
   "outputs": [
    {
     "data": {
      "text/plain": [
       "['*', '*']"
      ]
     },
     "execution_count": 8,
     "metadata": {},
     "output_type": "execute_result"
    }
   ],
   "source": [
    "re.findall(r'\\.', 'test.example.com')\n",
    "# ['.', '.']\n",
    "\n",
    "re.findall(r'\\*', 'a * b * c')"
   ]
  },
  {
   "cell_type": "markdown",
   "id": "3312736a-a3c9-4502-9bdd-1ef3834f7d30",
   "metadata": {},
   "source": [
    "**\\t \\n \\r → Tabs, newlines, carriage returns**"
   ]
  },
  {
   "cell_type": "code",
   "execution_count": 11,
   "id": "63f272d5-f6b9-4ef5-947d-c7d2859edbf3",
   "metadata": {},
   "outputs": [
    {
     "data": {
      "text/plain": [
       "['\\t', '\\n', '\\r']"
      ]
     },
     "execution_count": 11,
     "metadata": {},
     "output_type": "execute_result"
    }
   ],
   "source": [
    "text = 'first\\tsecond\\nthird\\rfourth'\n",
    "re.findall(r'\\t|\\n|\\r', text)\n"
   ]
  },
  {
   "cell_type": "markdown",
   "id": "f9c736b4-1864-45a7-8c50-f8f57c3ff3d6",
   "metadata": {},
   "source": [
    "## 4. Groups & Lookaround\n",
    "\n",
    "**(abc) → Capture group**"
   ]
  },
  {
   "cell_type": "code",
   "execution_count": 1,
   "id": "e27800c9-7043-44f9-b023-fef0ca372fc7",
   "metadata": {},
   "outputs": [
    {
     "data": {
      "text/plain": [
       "[('Gagan', ''), ('', 'Puri')]"
      ]
     },
     "execution_count": 1,
     "metadata": {},
     "output_type": "execute_result"
    }
   ],
   "source": [
    "import re\n",
    "\n",
    "txt = \"\"\"Serial numbers: A1234B, A5678C, Z4321X.\n",
    "Account number: 987654321 Name: Gagan Surname: Puri\n",
    "Account number: 78969873\"\"\"\n",
    "\n",
    "re.findall(r\"Name: (\\w+)| Surname: (\\w+)\", txt)"
   ]
  },
  {
   "cell_type": "code",
   "execution_count": 5,
   "id": "d4937b7a-6f36-47e8-9d6c-4638dff1723d",
   "metadata": {},
   "outputs": [
    {
     "data": {
      "text/plain": [
       "['ha']"
      ]
     },
     "execution_count": 5,
     "metadata": {},
     "output_type": "execute_result"
    }
   ],
   "source": [
    "re.findall(r'(ha)+', 'hahaha')"
   ]
  },
  {
   "cell_type": "markdown",
   "id": "26a666be-4f85-4fe7-bfba-2289800d419e",
   "metadata": {},
   "source": [
    "**\\1 → Backreference**"
   ]
  },
  {
   "cell_type": "code",
   "execution_count": 14,
   "id": "612cd142-cd72-4965-aed3-e11607deff11",
   "metadata": {},
   "outputs": [
    {
     "data": {
      "text/plain": [
       "['hello', 'world']"
      ]
     },
     "execution_count": 14,
     "metadata": {},
     "output_type": "execute_result"
    }
   ],
   "source": [
    "re.findall(r'(\\w+)\\s+\\1', 'hello hello world world')"
   ]
  },
  {
   "cell_type": "markdown",
   "id": "a5765eb5-2216-4c93-b151-f4904214a9e3",
   "metadata": {},
   "source": [
    "**(?:abc) → Non-capturing group**"
   ]
  },
  {
   "cell_type": "code",
   "execution_count": 4,
   "id": "99b468a0-6879-4196-a11c-750283006b9e",
   "metadata": {},
   "outputs": [
    {
     "data": {
      "text/plain": [
       "['Account number: 987654321', 'Account number: 78969873']"
      ]
     },
     "execution_count": 4,
     "metadata": {},
     "output_type": "execute_result"
    }
   ],
   "source": [
    "txt = \"\"\"Serial numbers: A1234B, A5678C, Z4321X.\n",
    "Account number: 987654321 Name: Gagan Surname: -=-=-\n",
    "Account number: 78969873\"\"\"\n",
    "\n",
    "re.findall(r\"(?:Account number: )\\d+\", txt)"
   ]
  },
  {
   "cell_type": "code",
   "execution_count": 15,
   "id": "0c4388ec-e3a2-4c0c-9335-8d3429ce9618",
   "metadata": {},
   "outputs": [
    {
     "data": {
      "text/plain": [
       "['ga']"
      ]
     },
     "execution_count": 15,
     "metadata": {},
     "output_type": "execute_result"
    }
   ],
   "source": [
    "re.findall(r'(?:ha)+(ga)', 'hahahaga')"
   ]
  },
  {
   "cell_type": "markdown",
   "id": "1a5f2a9d-e11e-4cdf-8bef-72c70f98fbc9",
   "metadata": {},
   "source": [
    "**(?=abc) → Positive lookahead**"
   ]
  },
  {
   "cell_type": "code",
   "execution_count": 16,
   "id": "dbcf5298-d25b-43c4-b64b-6de867f42bbb",
   "metadata": {},
   "outputs": [
    {
     "data": {
      "text/plain": [
       "['eat', 'runn']"
      ]
     },
     "execution_count": 16,
     "metadata": {},
     "output_type": "execute_result"
    }
   ],
   "source": [
    "re.findall(r'\\w+(?=ing)', 'eating running played')"
   ]
  },
  {
   "cell_type": "code",
   "execution_count": null,
   "id": "abf21486-5ff0-4999-815a-4464d93e7c3a",
   "metadata": {},
   "outputs": [],
   "source": [
    "# [a-z_]+\\d+@[a-z]+\\.[a-z{2,}]\n",
    "# rupa_shrestha@gmail.com"
   ]
  },
  {
   "cell_type": "code",
   "execution_count": null,
   "id": "fcda5091-8d8e-422d-9fea-02cb4036aaf8",
   "metadata": {},
   "outputs": [],
   "source": [
    "re.findall(r'', '')"
   ]
  },
  {
   "cell_type": "code",
   "execution_count": null,
   "id": "3d82ed5e-8540-44af-b0c1-48bd8ae799c5",
   "metadata": {},
   "outputs": [],
   "source": [
    "# \\d{2,4}[\\/\\-]\\d{2}[\\/\\-]\\d{2,4}\n",
    "\n",
    "# John's phone number is (123) 456-7890 and his office line is 123-456-7890. \n",
    "# He was born on 1990-12-31 and got his license on 31/12/1990 or 31-12-1990. \n",
    "# Send an email to john.doe@example.com or support@company.co.uk. \n",
    "# Visit our website at https://www.example.com or follow http://blog.example.com/articles?id=123.\n",
    " \n",
    "# His IP address is 192.168.1.1 and his backup server is at 10.0.0.254.\n",
    "# The color theme used was #FF5733, #00ffcc, and #000.\n",
    " \n",
    "# He paid $123.45 for the order using his credit card 4111-1111-1111-1111, expiring 12/25.\n",
    "# Zip code is 90210 and his alternate is 10001-0001.\n",
    " \n",
    "# The meeting is scheduled for 09:30 AM and may go until 17:45.\n",
    "# The config file is at C:\\Users\\JohnDoe\\config.txt or /etc/config/settings.json.\n",
    " \n",
    "# On social media, he goes by @johnny and tags his posts with #regexFun and #coding.\n",
    "# The order total was €99.99, while another invoice shows £100.00 and ₹7500.\n",
    " \n",
    "# Tracking ID: AB123456789CD and customer ID: CUST-00123-XYZ.\n",
    "# His blog uses <div class=\"post\">HTML elements</div> frequently.\n",
    " \n",
    "# Device UUID: 550e8400-e29b-41d4-a716-446655440000.\n",
    "# His SSN is 123-45-6789 but should be kept private.\n",
    " \n",
    "# Notes: Some random strings to test:\n",
    "# abc123, X9Z8W7, 42-42-42, this_is-a_test, ends.with.dot."
   ]
  }
 ],
 "metadata": {
  "kernelspec": {
   "display_name": "Python 3 (ipykernel)",
   "language": "python",
   "name": "python3"
  },
  "language_info": {
   "codemirror_mode": {
    "name": "ipython",
    "version": 3
   },
   "file_extension": ".py",
   "mimetype": "text/x-python",
   "name": "python",
   "nbconvert_exporter": "python",
   "pygments_lexer": "ipython3",
   "version": "3.12.7"
  }
 },
 "nbformat": 4,
 "nbformat_minor": 5
}
